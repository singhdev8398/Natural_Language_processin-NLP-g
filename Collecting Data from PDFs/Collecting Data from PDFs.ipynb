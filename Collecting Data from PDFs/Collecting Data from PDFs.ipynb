{
 "cells": [
  {
   "cell_type": "markdown",
   "id": "53408b92",
   "metadata": {},
   "source": [
    "# Problem\n",
    "You want to read a PDF file.\n",
    "# Solution\n",
    "The simplest way to do this is by using the PyPDF2 library.\n",
    "# How It Works\n",
    "Let’s follow the steps in this section to extract data from PDF files."
   ]
  },
  {
   "cell_type": "markdown",
   "id": "267cce7f",
   "metadata": {},
   "source": [
    "# Install and import all the necessary libraries"
   ]
  },
  {
   "cell_type": "code",
   "execution_count": 2,
   "id": "f996ce44",
   "metadata": {},
   "outputs": [
    {
     "name": "stdout",
     "output_type": "stream",
     "text": [
      "Collecting PyPDF2Note: you may need to restart the kernel to use updated packages.\n",
      "\n",
      "  Using cached pypdf2-3.0.1-py3-none-any.whl (232 kB)\n",
      "Installing collected packages: PyPDF2\n",
      "Successfully installed PyPDF2-3.0.1\n"
     ]
    }
   ],
   "source": [
    "pip install PyPDF2\n"
   ]
  },
  {
   "cell_type": "code",
   "execution_count": 19,
   "id": "8ad90a7a",
   "metadata": {},
   "outputs": [],
   "source": [
    "import PyPDF2\n",
    "from PyPDF2 import PdfReader"
   ]
  },
  {
   "cell_type": "code",
   "execution_count": 20,
   "id": "def723ee",
   "metadata": {},
   "outputs": [],
   "source": [
    "pdf=open(\"kecs108 string.pdf\",\"rb\")"
   ]
  },
  {
   "cell_type": "code",
   "execution_count": 21,
   "id": "a9d5114d",
   "metadata": {},
   "outputs": [
    {
     "data": {
      "text/plain": [
       "<_io.BufferedReader name='kecs108 string.pdf'>"
      ]
     },
     "execution_count": 21,
     "metadata": {},
     "output_type": "execute_result"
    }
   ],
   "source": [
    "pdf"
   ]
  },
  {
   "cell_type": "code",
   "execution_count": 22,
   "id": "9430489f",
   "metadata": {},
   "outputs": [
    {
     "name": "stdout",
     "output_type": "stream",
     "text": [
      "8.1 I ntroduct Ion\n",
      "We have studied in Chapter 5, that a sequence is an \n",
      "orderly collection of items and each item is indexed by an integer. Following sequence data types in Python were also briefly introduced in Chapter 5.\n",
      "•\n",
      " Strings\n",
      "• Lists\n",
      "• Tuples\n",
      "Another data type ‘Dictionary’ was also introduced \n",
      "in chapter 5 which falls under the category of mapping. In this chapter, we \n",
      "will go through strings in detail. \n",
      "List will be covered in Chapter 9 whereas tuple and dictionary will be discussed in Chapter 10.\n",
      "8.2 S trIngS \n",
      "String is a sequence which is made up of one or more UNICODE characters. Here the character can be a letter, digit, whitespace or any other symbol. A string can be created by enclosing one or more characters in single, double or triple quote.\n",
      "Example 8.1\n",
      " \n",
      ">>> str1 = 'Hello World!'\n",
      ">>> str2 = \"Hello World!\">>> str3 = \"\"\"Hello World!\"\"\">>> str4 = '''Hello World!''\n",
      "str1 , str2 , str3 , str4  are all string variables \n",
      "having the same value 'Hello World!'. Values stored in \n",
      "str3  and str4  can be extended to multiple lines using \n",
      "triple codes as can be seen in the following example:\n",
      ">>> str3 = \"\"\"Hello World!\n",
      "          welcome to the world of Python\"\"\">>> str4 = '''Hello World!          welcome to the world of Python'''“The great thing about a \n",
      "computer notebook is that no \n",
      "matter how much you stuff \n",
      "into it, it doesn't get bigger or \n",
      "heavier. ”\n",
      "– Bill GatesChapter 8\n",
      "Strings\n",
      "In this chapter\n",
      " »Introduction to \n",
      "Strings\n",
      " »String Operations\n",
      " »Traversing a String\n",
      " »Strings Methods and Built-in Functions\n",
      " »Handling Strings\n",
      "Ch 8.indd   175 08-Apr-19   12:39:21 PM\n",
      "2024-25\n",
      "\n"
     ]
    }
   ],
   "source": [
    "reader = PdfReader(\"kecs108 string.pdf\")\n",
    "page = reader.pages[0]\n",
    "print(page.extract_text())"
   ]
  },
  {
   "cell_type": "code",
   "execution_count": 28,
   "id": "6564b317",
   "metadata": {},
   "outputs": [
    {
     "name": "stdout",
     "output_type": "stream",
     "text": [
      "String S177\n",
      "An inbuilt function len() in Python returns the length \n",
      "of the string that is passed as parameter. For example, \n",
      "the length of string str1 = 'Hello World!'  is 12.\n",
      "#gives the length of the string str1\n",
      ">>> len(str1)            12#length of the string is assigned to n>>> n = len(str1)       >>> print(n)12#gives the last character of the string>>> str1[n-1]            '!'#gives the first character of the string>>> str1[-n]             'H'\n",
      "8.2.2 String is Immutable\n",
      "A string is an immutable data type. It means that \n",
      "the contents of the string cannot be changed after it has been created. An attempt to do this would lead to an error.\n",
      ">>> str1 = \"Hello World!\"    \n",
      "#if we try to replace character 'e' with 'a'>>> str1[1] = 'a'  TypeError: 'str' object does not support item assignment\n",
      "8.3 S trIng operat IonS\n",
      "As we know that string is a sequence of characters. \n",
      "Python allows certain operations on string data type, such as concatenation, repetition, membership and slicing. These operations are explained in the following subsections with suitable examples.\n",
      "8.3.1 Concatenation\n",
      "To concatenate means to join. Python allows us to join \n",
      "two strings using concatenation operator plus which is \n",
      "denoted by symbol +.Table 8.1  Indexing of characters in string 'Hello World!' \n",
      "Positive Indices 0 1 2 3 4 5 6 7 8 9 10 11\n",
      "String H e l l o W o r l d !\n",
      "Negative Indices -12 -11 -10 -9 -8 -7 -6 -5 -4 -3 -2 -1\n",
      "Ch 8.indd   177 08-Apr-19   12:39:21 PM\n",
      "2024-25\n",
      "\n"
     ]
    }
   ],
   "source": [
    "page = reader.pages[2]\n",
    "print(page.extract_text())"
   ]
  },
  {
   "cell_type": "code",
   "execution_count": 29,
   "id": "732b123c",
   "metadata": {},
   "outputs": [
    {
     "name": "stdout",
     "output_type": "stream",
     "text": [
      ">>> str1 = 'Hello'      #First string\n",
      ">>> str2 = 'World!'     #Second string\n",
      ">>> str1 + str2         #Concatenated strings'HelloWorld!'\n",
      "    #str1\n",
      " and str2 remain same  \n",
      ">>> str1   #after this operation.\n",
      "'Hello'>>> str2'World!'\n",
      "8.3.2 Repetition\n",
      "Python allows us to repeat the given string using \n",
      "repetition operator which is denoted by symbol *.\n",
      "#assign string 'Hello' to str1\n",
      ">>> str1 = 'Hello'        \n",
      "#repeat the value of str1 2 times>>> str1 * 2              'HelloHello'#repeat the value of str1 5 times>>> str1 * 5              'HelloHelloHelloHelloHello'\n",
      "Note: str1  still remains the same after the use of \n",
      "repetition operator.\n",
      "8.3.3 Membership\n",
      "Python has two membership operators 'in' and 'not \n",
      "in'. The 'in' operator takes two strings and returns \n",
      "True if the first string appears as a substring in the \n",
      "second string, otherwise it returns False.\n",
      ">>> str1 = 'Hello World!'\n",
      ">>> 'W' in str1True>>> 'Wor' in str1True>>> 'My' in str1False\n",
      "The 'not in' operator also takes two strings and \n",
      "returns True if the first string does not appear as a \n",
      "substring in the second string, otherwise returns False.\n",
      ">>> str1 = 'Hello World!'>>> 'My' not in str1    True>>> 'Hello' not in str1False\n",
      "8.3.4 Slicing\n",
      "In Python, to access some part of a string or substring, \n",
      "we use a method called slicing. This can be done by \n"
     ]
    }
   ],
   "source": [
    "page = reader.pages[3]\n",
    "\n",
    "parts = []\n",
    "\n",
    "\n",
    "def visitor_body(text, cm, tm, fontDict, fontSize):\n",
    "    y = tm[5]\n",
    "    if y > 50 and y < 720:\n",
    "        parts.append(text)\n",
    "\n",
    "\n",
    "page.extract_text(visitor_text=visitor_body)\n",
    "text_body = \"\".join(parts)\n",
    "\n",
    "print(text_body)"
   ]
  },
  {
   "cell_type": "code",
   "execution_count": null,
   "id": "48ab44c4",
   "metadata": {},
   "outputs": [],
   "source": []
  }
 ],
 "metadata": {
  "kernelspec": {
   "display_name": "Python 3 (ipykernel)",
   "language": "python",
   "name": "python3"
  },
  "language_info": {
   "codemirror_mode": {
    "name": "ipython",
    "version": 3
   },
   "file_extension": ".py",
   "mimetype": "text/x-python",
   "name": "python",
   "nbconvert_exporter": "python",
   "pygments_lexer": "ipython3",
   "version": "3.10.9"
  }
 },
 "nbformat": 4,
 "nbformat_minor": 5
}
