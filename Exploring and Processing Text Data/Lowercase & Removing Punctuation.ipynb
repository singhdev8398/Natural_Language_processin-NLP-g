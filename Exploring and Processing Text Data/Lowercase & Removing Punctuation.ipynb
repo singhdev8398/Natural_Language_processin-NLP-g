{
 "cells": [
  {
   "cell_type": "markdown",
   "id": "4940d533",
   "metadata": {},
   "source": [
    "# Exploring and Processing Text Data\n",
    "In this chapter, we are going to cover various methods and techniques to\n",
    "preprocess the text data along with exploratory data analysis.\n",
    "We are going to discuss the following recipes under text preprocessing\n",
    "and exploratory data analysis.\n",
    " \n",
    "    Recipe 1. Lowercasing\n",
    "\n",
    "    Recipe 2. Punctuation removal\n",
    "\n",
    "    Recipe 3. Stop words removal\n",
    " \n",
    "    Recipe 4. Text standardization\n",
    "\n",
    "    Recipe 5. Spelling correction\n",
    "\n",
    "    Recipe 6. Tokenization\n",
    "\n",
    "    Recipe 7. Stemming\n",
    "\n",
    "    Recipe 8. Lemmatization\n",
    "\n",
    "    Recipe 9. Exploratory data analysis\n",
    "\n",
    "    Recipe 10. End-to-end processing pipeline"
   ]
  },
  {
   "cell_type": "markdown",
   "id": "0e6cfe31",
   "metadata": {},
   "source": [
    "# Recipe 1. Lowercasing"
   ]
  },
  {
   "cell_type": "markdown",
   "id": "16b889c6",
   "metadata": {},
   "source": [
    "Recipe 2-1. Converting Text Data\n",
    "to Lowercase"
   ]
  },
  {
   "cell_type": "markdown",
   "id": "15feb015",
   "metadata": {},
   "source": [
    "# Problem\n",
    "   \n",
    "    How to lowercase the text data?\n",
    "    \n",
    "# Solution\n",
    "\n",
    "    The simplest way to do this is by using the default lower() function in Python. The lower() method converts all uppercase characters in a string into lowercase characters and returns them.\n",
    "\n",
    "# How It Works\n",
    "    \n",
    "    Let’s follow the steps in this section to lowercase a given text or document. Here, we are going to use Python.    "
   ]
  },
  {
   "cell_type": "code",
   "execution_count": 2,
   "id": "5ede1ce2",
   "metadata": {},
   "outputs": [],
   "source": [
    "text=['This is introduction to NLP','It is likely to be useful,to people ',\n",
    "      'Machine learning is the new electrcity','There would be less hype around AI and more action going forward',\n",
    "      'python is the best tool!','R is good langauage','I like this book','I want more books like this']"
   ]
  },
  {
   "cell_type": "code",
   "execution_count": 3,
   "id": "f7e0bb1e",
   "metadata": {},
   "outputs": [
    {
     "data": {
      "text/plain": [
       "['This is introduction to NLP',\n",
       " 'It is likely to be useful,to people ',\n",
       " 'Machine learning is the new electrcity',\n",
       " 'There would be less hype around AI and more action going forward',\n",
       " 'python is the best tool!',\n",
       " 'R is good langauage',\n",
       " 'I like this book',\n",
       " 'I want more books like this']"
      ]
     },
     "execution_count": 3,
     "metadata": {},
     "output_type": "execute_result"
    }
   ],
   "source": [
    "text"
   ]
  },
  {
   "cell_type": "code",
   "execution_count": 4,
   "id": "0d694ab3",
   "metadata": {},
   "outputs": [
    {
     "name": "stdout",
     "output_type": "stream",
     "text": [
      "                                               tweet\n",
      "0                        This is introduction to NLP\n",
      "1               It is likely to be useful,to people \n",
      "2             Machine learning is the new electrcity\n",
      "3  There would be less hype around AI and more ac...\n",
      "4                           python is the best tool!\n",
      "5                                R is good langauage\n",
      "6                                   I like this book\n",
      "7                        I want more books like this\n"
     ]
    }
   ],
   "source": [
    "#convert list to data frame\n",
    "import pandas as pd\n",
    "df = pd.DataFrame({'tweet':text})\n",
    "print(df)"
   ]
  },
  {
   "cell_type": "code",
   "execution_count": 5,
   "id": "5e3ccd0e",
   "metadata": {},
   "outputs": [
    {
     "data": {
      "text/html": [
       "<div>\n",
       "<style scoped>\n",
       "    .dataframe tbody tr th:only-of-type {\n",
       "        vertical-align: middle;\n",
       "    }\n",
       "\n",
       "    .dataframe tbody tr th {\n",
       "        vertical-align: top;\n",
       "    }\n",
       "\n",
       "    .dataframe thead th {\n",
       "        text-align: right;\n",
       "    }\n",
       "</style>\n",
       "<table border=\"1\" class=\"dataframe\">\n",
       "  <thead>\n",
       "    <tr style=\"text-align: right;\">\n",
       "      <th></th>\n",
       "      <th>tweet</th>\n",
       "    </tr>\n",
       "  </thead>\n",
       "  <tbody>\n",
       "    <tr>\n",
       "      <th>0</th>\n",
       "      <td>This is introduction to NLP</td>\n",
       "    </tr>\n",
       "    <tr>\n",
       "      <th>1</th>\n",
       "      <td>It is likely to be useful,to people</td>\n",
       "    </tr>\n",
       "    <tr>\n",
       "      <th>2</th>\n",
       "      <td>Machine learning is the new electrcity</td>\n",
       "    </tr>\n",
       "    <tr>\n",
       "      <th>3</th>\n",
       "      <td>There would be less hype around AI and more ac...</td>\n",
       "    </tr>\n",
       "    <tr>\n",
       "      <th>4</th>\n",
       "      <td>python is the best tool!</td>\n",
       "    </tr>\n",
       "    <tr>\n",
       "      <th>5</th>\n",
       "      <td>R is good langauage</td>\n",
       "    </tr>\n",
       "    <tr>\n",
       "      <th>6</th>\n",
       "      <td>I like this book</td>\n",
       "    </tr>\n",
       "    <tr>\n",
       "      <th>7</th>\n",
       "      <td>I want more books like this</td>\n",
       "    </tr>\n",
       "  </tbody>\n",
       "</table>\n",
       "</div>"
      ],
      "text/plain": [
       "                                               tweet\n",
       "0                        This is introduction to NLP\n",
       "1               It is likely to be useful,to people \n",
       "2             Machine learning is the new electrcity\n",
       "3  There would be less hype around AI and more ac...\n",
       "4                           python is the best tool!\n",
       "5                                R is good langauage\n",
       "6                                   I like this book\n",
       "7                        I want more books like this"
      ]
     },
     "execution_count": 5,
     "metadata": {},
     "output_type": "execute_result"
    }
   ],
   "source": [
    "df"
   ]
  },
  {
   "cell_type": "markdown",
   "id": "42a6a2f9",
   "metadata": {},
   "source": [
    "# Step 1-2 Execute lower() function on the text data"
   ]
  },
  {
   "cell_type": "code",
   "execution_count": 7,
   "id": "4134075e",
   "metadata": {},
   "outputs": [],
   "source": [
    "x=\"LOWER\""
   ]
  },
  {
   "cell_type": "code",
   "execution_count": 9,
   "id": "cb1e0131",
   "metadata": {},
   "outputs": [
    {
     "data": {
      "text/plain": [
       "'lower'"
      ]
     },
     "execution_count": 9,
     "metadata": {},
     "output_type": "execute_result"
    }
   ],
   "source": [
    "x.lower()"
   ]
  },
  {
   "cell_type": "code",
   "execution_count": 15,
   "id": "992be9b4",
   "metadata": {},
   "outputs": [
    {
     "data": {
      "text/html": [
       "<div>\n",
       "<style scoped>\n",
       "    .dataframe tbody tr th:only-of-type {\n",
       "        vertical-align: middle;\n",
       "    }\n",
       "\n",
       "    .dataframe tbody tr th {\n",
       "        vertical-align: top;\n",
       "    }\n",
       "\n",
       "    .dataframe thead th {\n",
       "        text-align: right;\n",
       "    }\n",
       "</style>\n",
       "<table border=\"1\" class=\"dataframe\">\n",
       "  <thead>\n",
       "    <tr style=\"text-align: right;\">\n",
       "      <th></th>\n",
       "      <th>tweet</th>\n",
       "      <th>lower_tweet</th>\n",
       "    </tr>\n",
       "  </thead>\n",
       "  <tbody>\n",
       "    <tr>\n",
       "      <th>0</th>\n",
       "      <td>This is introduction to NLP</td>\n",
       "      <td>this is introduction to nlp</td>\n",
       "    </tr>\n",
       "    <tr>\n",
       "      <th>1</th>\n",
       "      <td>It is likely to be useful,to people</td>\n",
       "      <td>it is likely to be useful,to people</td>\n",
       "    </tr>\n",
       "    <tr>\n",
       "      <th>2</th>\n",
       "      <td>Machine learning is the new electrcity</td>\n",
       "      <td>machine learning is the new electrcity</td>\n",
       "    </tr>\n",
       "    <tr>\n",
       "      <th>3</th>\n",
       "      <td>There would be less hype around AI and more ac...</td>\n",
       "      <td>there would be less hype around ai and more ac...</td>\n",
       "    </tr>\n",
       "    <tr>\n",
       "      <th>4</th>\n",
       "      <td>python is the best tool!</td>\n",
       "      <td>python is the best tool!</td>\n",
       "    </tr>\n",
       "    <tr>\n",
       "      <th>5</th>\n",
       "      <td>R is good langauage</td>\n",
       "      <td>r is good langauage</td>\n",
       "    </tr>\n",
       "    <tr>\n",
       "      <th>6</th>\n",
       "      <td>I like this book</td>\n",
       "      <td>i like this book</td>\n",
       "    </tr>\n",
       "    <tr>\n",
       "      <th>7</th>\n",
       "      <td>I want more books like this</td>\n",
       "      <td>i want more books like this</td>\n",
       "    </tr>\n",
       "  </tbody>\n",
       "</table>\n",
       "</div>"
      ],
      "text/plain": [
       "                                               tweet  \\\n",
       "0                        This is introduction to NLP   \n",
       "1               It is likely to be useful,to people    \n",
       "2             Machine learning is the new electrcity   \n",
       "3  There would be less hype around AI and more ac...   \n",
       "4                           python is the best tool!   \n",
       "5                                R is good langauage   \n",
       "6                                   I like this book   \n",
       "7                        I want more books like this   \n",
       "\n",
       "                                         lower_tweet  \n",
       "0                        this is introduction to nlp  \n",
       "1               it is likely to be useful,to people   \n",
       "2             machine learning is the new electrcity  \n",
       "3  there would be less hype around ai and more ac...  \n",
       "4                           python is the best tool!  \n",
       "5                                r is good langauage  \n",
       "6                                   i like this book  \n",
       "7                        i want more books like this  "
      ]
     },
     "execution_count": 15,
     "metadata": {},
     "output_type": "execute_result"
    }
   ],
   "source": [
    "df[\"lower_tweet\"]=df[\"tweet\"].apply(lambda x : \"\".join(x.lower()))\n",
    "#df[\"lower_tweet\"]=df['tweet'].apply(lambda x: \" \".join(x.lower()for x in x.split()))\n",
    "df"
   ]
  },
  {
   "cell_type": "markdown",
   "id": "4f1fab22",
   "metadata": {},
   "source": [
    "# Recipe 2-2. Removing Punctuation"
   ]
  },
  {
   "cell_type": "code",
   "execution_count": 16,
   "id": "3b2c9f68",
   "metadata": {},
   "outputs": [],
   "source": [
    "import string"
   ]
  },
  {
   "cell_type": "code",
   "execution_count": 18,
   "id": "378e12e5",
   "metadata": {},
   "outputs": [
    {
     "data": {
      "text/plain": [
       "'!\"#$%&\\'()*+,-./:;<=>?@[\\\\]^_`{|}~'"
      ]
     },
     "execution_count": 18,
     "metadata": {},
     "output_type": "execute_result"
    }
   ],
   "source": [
    "string.punctuation"
   ]
  },
  {
   "cell_type": "markdown",
   "id": "dde54645",
   "metadata": {},
   "source": [
    "# Problem\n",
    "\n",
    "    You want to remove punctuation from the text data.\n",
    "\n",
    "Solution\n",
    "    \n",
    "    The simplest way to do this is by using the regex and replace() function in Python.\n",
    "\n",
    "How It Works\n",
    "    \n",
    "     Let’s follow the steps in this section to remove punctuation from the text data."
   ]
  },
  {
   "cell_type": "code",
   "execution_count": 19,
   "id": "115e37a3",
   "metadata": {},
   "outputs": [
    {
     "name": "stdout",
     "output_type": "stream",
     "text": [
      "                                              tweets\n",
      "0                        This is introduction to NLP\n",
      "1               It is likely to be useful,to people \n",
      "2             Machine learning is the new electrcity\n",
      "3  There would be less hype around AI and more ac...\n",
      "4                           python is the best tool!\n",
      "5                                R is good langauage\n",
      "6                                   I like this book\n",
      "7                        I want more books like this\n"
     ]
    }
   ],
   "source": [
    "text=['This is introduction to NLP','It is likely to be useful,to people ',\n",
    "      'Machine learning is the new electrcity','There would be less hype around AI and more action going forward',\n",
    "      'python is the best tool!','R is good langauage','I like this book','I want more books like this']\n",
    "#convert list to dataframe\n",
    "import pandas as pd\n",
    "df1 = pd.DataFrame({'tweets':text})\n",
    "print(df1)"
   ]
  },
  {
   "cell_type": "markdown",
   "id": "19d51559",
   "metadata": {},
   "source": [
    "# Step 2-2 Execute below function on the text data"
   ]
  },
  {
   "cell_type": "code",
   "execution_count": 20,
   "id": "45d513f4",
   "metadata": {},
   "outputs": [],
   "source": [
    "import re\n",
    "s = \"I. like. This book!\""
   ]
  },
  {
   "cell_type": "code",
   "execution_count": 23,
   "id": "fc9035cb",
   "metadata": {},
   "outputs": [
    {
     "data": {
      "text/plain": [
       "'I like This book'"
      ]
     },
     "execution_count": 23,
     "metadata": {},
     "output_type": "execute_result"
    }
   ],
   "source": [
    "s1=re.sub(r\"[^\\w\\s]\",\"\",s)\n",
    "s1"
   ]
  },
  {
   "cell_type": "code",
   "execution_count": 24,
   "id": "bb6fdbcf",
   "metadata": {},
   "outputs": [
    {
     "data": {
      "text/html": [
       "<div>\n",
       "<style scoped>\n",
       "    .dataframe tbody tr th:only-of-type {\n",
       "        vertical-align: middle;\n",
       "    }\n",
       "\n",
       "    .dataframe tbody tr th {\n",
       "        vertical-align: top;\n",
       "    }\n",
       "\n",
       "    .dataframe thead th {\n",
       "        text-align: right;\n",
       "    }\n",
       "</style>\n",
       "<table border=\"1\" class=\"dataframe\">\n",
       "  <thead>\n",
       "    <tr style=\"text-align: right;\">\n",
       "      <th></th>\n",
       "      <th>tweets</th>\n",
       "      <th>lower_tweet</th>\n",
       "    </tr>\n",
       "  </thead>\n",
       "  <tbody>\n",
       "    <tr>\n",
       "      <th>0</th>\n",
       "      <td>This is introduction to NLP</td>\n",
       "      <td>this is introduction to nlp</td>\n",
       "    </tr>\n",
       "    <tr>\n",
       "      <th>1</th>\n",
       "      <td>It is likely to be useful,to people</td>\n",
       "      <td>it is likely to be useful,to people</td>\n",
       "    </tr>\n",
       "    <tr>\n",
       "      <th>2</th>\n",
       "      <td>Machine learning is the new electrcity</td>\n",
       "      <td>machine learning is the new electrcity</td>\n",
       "    </tr>\n",
       "    <tr>\n",
       "      <th>3</th>\n",
       "      <td>There would be less hype around AI and more ac...</td>\n",
       "      <td>there would be less hype around ai and more ac...</td>\n",
       "    </tr>\n",
       "    <tr>\n",
       "      <th>4</th>\n",
       "      <td>python is the best tool!</td>\n",
       "      <td>python is the best tool!</td>\n",
       "    </tr>\n",
       "    <tr>\n",
       "      <th>5</th>\n",
       "      <td>R is good langauage</td>\n",
       "      <td>r is good langauage</td>\n",
       "    </tr>\n",
       "    <tr>\n",
       "      <th>6</th>\n",
       "      <td>I like this book</td>\n",
       "      <td>i like this book</td>\n",
       "    </tr>\n",
       "    <tr>\n",
       "      <th>7</th>\n",
       "      <td>I want more books like this</td>\n",
       "      <td>i want more books like this</td>\n",
       "    </tr>\n",
       "  </tbody>\n",
       "</table>\n",
       "</div>"
      ],
      "text/plain": [
       "                                              tweets  \\\n",
       "0                        This is introduction to NLP   \n",
       "1               It is likely to be useful,to people    \n",
       "2             Machine learning is the new electrcity   \n",
       "3  There would be less hype around AI and more ac...   \n",
       "4                           python is the best tool!   \n",
       "5                                R is good langauage   \n",
       "6                                   I like this book   \n",
       "7                        I want more books like this   \n",
       "\n",
       "                                         lower_tweet  \n",
       "0                        this is introduction to nlp  \n",
       "1                it is likely to be useful,to people  \n",
       "2             machine learning is the new electrcity  \n",
       "3  there would be less hype around ai and more ac...  \n",
       "4                           python is the best tool!  \n",
       "5                                r is good langauage  \n",
       "6                                   i like this book  \n",
       "7                        i want more books like this  "
      ]
     },
     "execution_count": 24,
     "metadata": {},
     "output_type": "execute_result"
    }
   ],
   "source": [
    "df1[\"lower_tweet\"]=df1['tweets'].apply(lambda x: \" \".join(x.lower()for x in x.split()))\n",
    "df1"
   ]
  },
  {
   "cell_type": "code",
   "execution_count": 26,
   "id": "f97ab5a5",
   "metadata": {},
   "outputs": [
    {
     "name": "stderr",
     "output_type": "stream",
     "text": [
      "C:\\Users\\ASUS\\AppData\\Local\\Temp\\ipykernel_7340\\2967955295.py:1: FutureWarning: The default value of regex will change from True to False in a future version.\n",
      "  df1[\"remove_punc\"]=df1['lower_tweet'].str.replace(r\"[^\\w\\s]\",\"\")\n"
     ]
    }
   ],
   "source": [
    "df1[\"remove_punc\"]=df1['lower_tweet'].str.replace(r\"[^\\w\\s]\",\"\")"
   ]
  },
  {
   "cell_type": "code",
   "execution_count": 27,
   "id": "fb435b1d",
   "metadata": {},
   "outputs": [
    {
     "data": {
      "text/html": [
       "<div>\n",
       "<style scoped>\n",
       "    .dataframe tbody tr th:only-of-type {\n",
       "        vertical-align: middle;\n",
       "    }\n",
       "\n",
       "    .dataframe tbody tr th {\n",
       "        vertical-align: top;\n",
       "    }\n",
       "\n",
       "    .dataframe thead th {\n",
       "        text-align: right;\n",
       "    }\n",
       "</style>\n",
       "<table border=\"1\" class=\"dataframe\">\n",
       "  <thead>\n",
       "    <tr style=\"text-align: right;\">\n",
       "      <th></th>\n",
       "      <th>tweets</th>\n",
       "      <th>lower_tweet</th>\n",
       "      <th>remove_punc</th>\n",
       "    </tr>\n",
       "  </thead>\n",
       "  <tbody>\n",
       "    <tr>\n",
       "      <th>0</th>\n",
       "      <td>This is introduction to NLP</td>\n",
       "      <td>this is introduction to nlp</td>\n",
       "      <td>this is introduction to nlp</td>\n",
       "    </tr>\n",
       "    <tr>\n",
       "      <th>1</th>\n",
       "      <td>It is likely to be useful,to people</td>\n",
       "      <td>it is likely to be useful,to people</td>\n",
       "      <td>it is likely to be usefulto people</td>\n",
       "    </tr>\n",
       "    <tr>\n",
       "      <th>2</th>\n",
       "      <td>Machine learning is the new electrcity</td>\n",
       "      <td>machine learning is the new electrcity</td>\n",
       "      <td>machine learning is the new electrcity</td>\n",
       "    </tr>\n",
       "    <tr>\n",
       "      <th>3</th>\n",
       "      <td>There would be less hype around AI and more ac...</td>\n",
       "      <td>there would be less hype around ai and more ac...</td>\n",
       "      <td>there would be less hype around ai and more ac...</td>\n",
       "    </tr>\n",
       "    <tr>\n",
       "      <th>4</th>\n",
       "      <td>python is the best tool!</td>\n",
       "      <td>python is the best tool!</td>\n",
       "      <td>python is the best tool</td>\n",
       "    </tr>\n",
       "    <tr>\n",
       "      <th>5</th>\n",
       "      <td>R is good langauage</td>\n",
       "      <td>r is good langauage</td>\n",
       "      <td>r is good langauage</td>\n",
       "    </tr>\n",
       "    <tr>\n",
       "      <th>6</th>\n",
       "      <td>I like this book</td>\n",
       "      <td>i like this book</td>\n",
       "      <td>i like this book</td>\n",
       "    </tr>\n",
       "    <tr>\n",
       "      <th>7</th>\n",
       "      <td>I want more books like this</td>\n",
       "      <td>i want more books like this</td>\n",
       "      <td>i want more books like this</td>\n",
       "    </tr>\n",
       "  </tbody>\n",
       "</table>\n",
       "</div>"
      ],
      "text/plain": [
       "                                              tweets  \\\n",
       "0                        This is introduction to NLP   \n",
       "1               It is likely to be useful,to people    \n",
       "2             Machine learning is the new electrcity   \n",
       "3  There would be less hype around AI and more ac...   \n",
       "4                           python is the best tool!   \n",
       "5                                R is good langauage   \n",
       "6                                   I like this book   \n",
       "7                        I want more books like this   \n",
       "\n",
       "                                         lower_tweet  \\\n",
       "0                        this is introduction to nlp   \n",
       "1                it is likely to be useful,to people   \n",
       "2             machine learning is the new electrcity   \n",
       "3  there would be less hype around ai and more ac...   \n",
       "4                           python is the best tool!   \n",
       "5                                r is good langauage   \n",
       "6                                   i like this book   \n",
       "7                        i want more books like this   \n",
       "\n",
       "                                         remove_punc  \n",
       "0                        this is introduction to nlp  \n",
       "1                 it is likely to be usefulto people  \n",
       "2             machine learning is the new electrcity  \n",
       "3  there would be less hype around ai and more ac...  \n",
       "4                            python is the best tool  \n",
       "5                                r is good langauage  \n",
       "6                                   i like this book  \n",
       "7                        i want more books like this  "
      ]
     },
     "execution_count": 27,
     "metadata": {},
     "output_type": "execute_result"
    }
   ],
   "source": [
    "df1"
   ]
  },
  {
   "cell_type": "code",
   "execution_count": null,
   "id": "6e5b0efe",
   "metadata": {},
   "outputs": [],
   "source": []
  }
 ],
 "metadata": {
  "kernelspec": {
   "display_name": "Python 3 (ipykernel)",
   "language": "python",
   "name": "python3"
  },
  "language_info": {
   "codemirror_mode": {
    "name": "ipython",
    "version": 3
   },
   "file_extension": ".py",
   "mimetype": "text/x-python",
   "name": "python",
   "nbconvert_exporter": "python",
   "pygments_lexer": "ipython3",
   "version": "3.10.9"
  }
 },
 "nbformat": 4,
 "nbformat_minor": 5
}
