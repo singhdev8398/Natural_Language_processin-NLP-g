{
 "cells": [
  {
   "cell_type": "markdown",
   "id": "22add314",
   "metadata": {},
   "source": [
    "# Recipe 2-5. Correcting Spelling\n",
    "In this recipe, we are going to discuss how to do spelling correction. But\n",
    "before that, let’s understand why this spelling correction is important.\n",
    "Most of the text data is in the form of either customer reviews, blogs, or\n",
    "tweets, where there is a high chance of people using short words and making typo errors. This will help us in reducing multiple copies of words,\n",
    "which represents the same meaning. For example, “proccessing” and\n",
    "“processing” will be treated as different words even if they are used in the\n",
    "same sense.\n",
    "Note that abbreviations should be handled before this step, or else\n",
    "the corrector would fail at times. Say, for example, “ur” (actually means\n",
    "“your”) would be corrected to “or.”"
   ]
  },
  {
   "cell_type": "markdown",
   "id": "0b6fe67e",
   "metadata": {},
   "source": [
    "# Problem\n",
    "You want to do spelling correction.\n",
    "# Solution\n",
    "The simplest way to do this by using the TextBlob library.\n",
    "# How It Works\n",
    "Let’s follow the steps in this section to do spelling correction."
   ]
  },
  {
   "cell_type": "markdown",
   "id": "e99d64b5",
   "metadata": {},
   "source": [
    "# Step 1 Read/create the text data"
   ]
  },
  {
   "cell_type": "code",
   "execution_count": 1,
   "id": "dd7c0901",
   "metadata": {},
   "outputs": [],
   "source": [
    "text=['Introduction to NLP','It is likely to be useful, to people ',\n",
    "      'Machine learning is the new electrcity', 'R is good langauage',\n",
    "      'I like this book','I want more books like this']\n",
    "#convert list to dataframe\n",
    "import pandas as pd\n",
    "df = pd.DataFrame({'tweet':text})"
   ]
  },
  {
   "cell_type": "code",
   "execution_count": 2,
   "id": "739c4152",
   "metadata": {},
   "outputs": [
    {
     "data": {
      "text/html": [
       "<div>\n",
       "<style scoped>\n",
       "    .dataframe tbody tr th:only-of-type {\n",
       "        vertical-align: middle;\n",
       "    }\n",
       "\n",
       "    .dataframe tbody tr th {\n",
       "        vertical-align: top;\n",
       "    }\n",
       "\n",
       "    .dataframe thead th {\n",
       "        text-align: right;\n",
       "    }\n",
       "</style>\n",
       "<table border=\"1\" class=\"dataframe\">\n",
       "  <thead>\n",
       "    <tr style=\"text-align: right;\">\n",
       "      <th></th>\n",
       "      <th>tweet</th>\n",
       "    </tr>\n",
       "  </thead>\n",
       "  <tbody>\n",
       "    <tr>\n",
       "      <th>0</th>\n",
       "      <td>Introduction to NLP</td>\n",
       "    </tr>\n",
       "    <tr>\n",
       "      <th>1</th>\n",
       "      <td>It is likely to be useful, to people</td>\n",
       "    </tr>\n",
       "    <tr>\n",
       "      <th>2</th>\n",
       "      <td>Machine learning is the new electrcity</td>\n",
       "    </tr>\n",
       "    <tr>\n",
       "      <th>3</th>\n",
       "      <td>R is good langauage</td>\n",
       "    </tr>\n",
       "    <tr>\n",
       "      <th>4</th>\n",
       "      <td>I like this book</td>\n",
       "    </tr>\n",
       "    <tr>\n",
       "      <th>5</th>\n",
       "      <td>I want more books like this</td>\n",
       "    </tr>\n",
       "  </tbody>\n",
       "</table>\n",
       "</div>"
      ],
      "text/plain": [
       "                                    tweet\n",
       "0                     Introduction to NLP\n",
       "1   It is likely to be useful, to people \n",
       "2  Machine learning is the new electrcity\n",
       "3                     R is good langauage\n",
       "4                        I like this book\n",
       "5             I want more books like this"
      ]
     },
     "execution_count": 2,
     "metadata": {},
     "output_type": "execute_result"
    }
   ],
   "source": [
    "df"
   ]
  },
  {
   "cell_type": "markdown",
   "id": "9d034f82",
   "metadata": {},
   "source": [
    "# Step 2 Execute below code on the text data\n",
    "Using TextBlob, we can do spelling correction as shown below:\n"
   ]
  },
  {
   "cell_type": "code",
   "execution_count": 4,
   "id": "9f130b2c",
   "metadata": {},
   "outputs": [],
   "source": [
    "#import libraries and use 'correct' function\n",
    "from textblob import TextBlob"
   ]
  },
  {
   "cell_type": "code",
   "execution_count": 8,
   "id": "e2d86f9b",
   "metadata": {},
   "outputs": [
    {
     "data": {
      "text/plain": [
       "TextBlob(\"interposition\")"
      ]
     },
     "execution_count": 8,
     "metadata": {},
     "output_type": "execute_result"
    }
   ],
   "source": [
    "TextBlob(\"interpoltion\").correct()"
   ]
  },
  {
   "cell_type": "code",
   "execution_count": 10,
   "id": "2420c24e",
   "metadata": {},
   "outputs": [
    {
     "data": {
      "text/plain": [
       "0                        Introduction to NLP\n",
       "1      It is likely to be useful, to people \n",
       "2    Machine learning is the new electricity\n",
       "3                         R is good language\n",
       "4                           I like this book\n",
       "5                I want more books like this\n",
       "Name: tweet, dtype: object"
      ]
     },
     "execution_count": 10,
     "metadata": {},
     "output_type": "execute_result"
    }
   ],
   "source": [
    "df['tweet'].apply(lambda x:str(TextBlob(x).correct()))"
   ]
  },
  {
   "cell_type": "markdown",
   "id": "46a6a0f3",
   "metadata": {},
   "source": [
    " If you clearly observe this, it corrected the spelling of electricity and\n",
    "language."
   ]
  },
  {
   "cell_type": "markdown",
   "id": "da2264e0",
   "metadata": {},
   "source": [
    "# You can also use autocorrect library as shown below"
   ]
  },
  {
   "cell_type": "code",
   "execution_count": 12,
   "id": "73773560",
   "metadata": {},
   "outputs": [
    {
     "name": "stdout",
     "output_type": "stream",
     "text": [
      "Collecting autocorrect\n",
      "  Downloading autocorrect-2.6.1.tar.gz (622 kB)\n",
      "     ------------------------------------ 622.8/622.8 kB 739.8 kB/s eta 0:00:00\n",
      "  Preparing metadata (setup.py): started\n",
      "  Preparing metadata (setup.py): finished with status 'done'\n",
      "Building wheels for collected packages: autocorrect\n",
      "  Building wheel for autocorrect (setup.py): started\n",
      "  Building wheel for autocorrect (setup.py): finished with status 'done'\n",
      "  Created wheel for autocorrect: filename=autocorrect-2.6.1-py3-none-any.whl size=622374 sha256=aced35b3404a1c4f02b69dbbb4d0e723491cecd682591379d82debc88573af23\n",
      "  Stored in directory: c:\\users\\asus\\appdata\\local\\pip\\cache\\wheels\\4a\\a8\\1f\\97371a508b82b380dd3faf1bd4ce40843cea1a6c6724f9d7cd\n",
      "Successfully built autocorrect\n",
      "Installing collected packages: autocorrect\n",
      "Successfully installed autocorrect-2.6.1\n",
      "Note: you may need to restart the kernel to use updated packages.\n"
     ]
    }
   ],
   "source": [
    "pip install autocorrect"
   ]
  },
  {
   "cell_type": "code",
   "execution_count": 19,
   "id": "679eafa1",
   "metadata": {},
   "outputs": [],
   "source": [
    "from autocorrect import spell"
   ]
  },
  {
   "cell_type": "code",
   "execution_count": 21,
   "id": "2897b41f",
   "metadata": {},
   "outputs": [
    {
     "name": "stdout",
     "output_type": "stream",
     "text": [
      "autocorrect.spell is deprecated,             use autocorrect.Speller instead\n",
      "message\n"
     ]
    }
   ],
   "source": [
    "print(spell(u\"mussage\"))"
   ]
  },
  {
   "cell_type": "code",
   "execution_count": 22,
   "id": "94ef394e",
   "metadata": {},
   "outputs": [
    {
     "name": "stdout",
     "output_type": "stream",
     "text": [
      "autocorrect.spell is deprecated,             use autocorrect.Speller instead\n"
     ]
    },
    {
     "data": {
      "text/plain": [
       "'service'"
      ]
     },
     "execution_count": 22,
     "metadata": {},
     "output_type": "execute_result"
    }
   ],
   "source": [
    "spell(u\"sirvice\")"
   ]
  },
  {
   "cell_type": "code",
   "execution_count": null,
   "id": "f52a7216",
   "metadata": {},
   "outputs": [],
   "source": []
  }
 ],
 "metadata": {
  "kernelspec": {
   "display_name": "Python 3 (ipykernel)",
   "language": "python",
   "name": "python3"
  },
  "language_info": {
   "codemirror_mode": {
    "name": "ipython",
    "version": 3
   },
   "file_extension": ".py",
   "mimetype": "text/x-python",
   "name": "python",
   "nbconvert_exporter": "python",
   "pygments_lexer": "ipython3",
   "version": "3.10.9"
  }
 },
 "nbformat": 4,
 "nbformat_minor": 5
}
