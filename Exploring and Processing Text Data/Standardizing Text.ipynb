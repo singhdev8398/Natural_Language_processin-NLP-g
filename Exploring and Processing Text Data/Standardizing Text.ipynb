{
 "cells": [
  {
   "cell_type": "markdown",
   "id": "35692663",
   "metadata": {},
   "source": [
    "# Recipe 4. Standardizing Text\n",
    "In this recipe, we are going to discuss how to standardize the text. But before\n",
    "that, let’s understand what is text standardization and why we need to do it.\n",
    "Most of the text data is in the form of either customer reviews, blogs, or tweets,\n",
    "where there is a high chance of people using short words and abbreviations to\n",
    "represent the same meaning. This may help the downstream process to easily\n",
    "understand and resolve the semantics of the text."
   ]
  },
  {
   "cell_type": "markdown",
   "id": "fa276e5e",
   "metadata": {},
   "source": [
    "# Problem\n",
    "You want to standardize text.\n",
    "# Solution\n",
    "We can write our own custom dictionary to look for short words and\n",
    "abbreviations.\n",
    "# How It Works\n",
    "Let’s follow the steps in this section to perform text standardization"
   ]
  },
  {
   "cell_type": "markdown",
   "id": "57a71763",
   "metadata": {},
   "source": [
    "# Step 1 Create a custom lookup dictionary"
   ]
  },
  {
   "cell_type": "code",
   "execution_count": 2,
   "id": "b1b24ce6",
   "metadata": {},
   "outputs": [],
   "source": [
    "lookup_dict = {'nlp':'natural language processing','ur':'your', \"wbu\" : \"what about you\"}"
   ]
  },
  {
   "cell_type": "code",
   "execution_count": 3,
   "id": "b1d92cdf",
   "metadata": {},
   "outputs": [
    {
     "data": {
      "text/plain": [
       "{'nlp': 'natural language processing', 'ur': 'your', 'wbu': 'what about you'}"
      ]
     },
     "execution_count": 3,
     "metadata": {},
     "output_type": "execute_result"
    }
   ],
   "source": [
    "lookup_dict\n"
   ]
  },
  {
   "cell_type": "code",
   "execution_count": 4,
   "id": "6d1ce7b7",
   "metadata": {},
   "outputs": [],
   "source": [
    "import re"
   ]
  },
  {
   "cell_type": "markdown",
   "id": "13ee7b71",
   "metadata": {},
   "source": [
    "# Step 2 Create a custom function for text standardization"
   ]
  },
  {
   "cell_type": "code",
   "execution_count": 6,
   "id": "9484ee73",
   "metadata": {},
   "outputs": [],
   "source": [
    "def text_std(input_text):\n",
    "    words = input_text.split()\n",
    "    new_words = []\n",
    "    for word in words:\n",
    "        word = re.sub(r'[^\\w\\s]','',word)\n",
    "        if word.lower() in lookup_dict:\n",
    "            word = lookup_dict[word.lower()]\n",
    "            new_words.append(word)\n",
    "    new_text = \" \".join(new_words)\n",
    "    return new_text"
   ]
  },
  {
   "cell_type": "code",
   "execution_count": null,
   "id": "5b7a2932",
   "metadata": {},
   "outputs": [],
   "source": [
    "text()"
   ]
  }
 ],
 "metadata": {
  "kernelspec": {
   "display_name": "Python 3 (ipykernel)",
   "language": "python",
   "name": "python3"
  },
  "language_info": {
   "codemirror_mode": {
    "name": "ipython",
    "version": 3
   },
   "file_extension": ".py",
   "mimetype": "text/x-python",
   "name": "python",
   "nbconvert_exporter": "python",
   "pygments_lexer": "ipython3",
   "version": "3.10.9"
  }
 },
 "nbformat": 4,
 "nbformat_minor": 5
}
